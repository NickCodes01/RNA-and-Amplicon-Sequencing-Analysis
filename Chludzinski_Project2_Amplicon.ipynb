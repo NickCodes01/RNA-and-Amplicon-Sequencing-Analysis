{
 "cells": [
  {
   "cell_type": "code",
   "execution_count": 3,
   "id": "8c9a89fc-4156-47ee-a38b-a318773f0322",
   "metadata": {},
   "outputs": [
    {
     "name": "stdout",
     "output_type": "stream",
     "text": [
      "Total Variants: 76\n",
      "\n",
      "Missing Values in QUAL: 0\n",
      "\n",
      "High-Quality Variants Saved: 76\n",
      "\n",
      "The higher the quality (ie. 4700200.0), the greater the confidence in the variant (ie. at chr15) being a true genetic change rather than a sequencing artifact\n",
      "Top 10 Variants by Quality:\n",
      "    #CHROM       POS ID REF ALT       QUAL\n",
      "16  chr15  25338489  .   A   G  4700200.0\n",
      "6   chr11   5225911  .   G   A  1701690.0\n",
      "8   chr11   5226561  .   C   G   221051.0\n",
      "7   chr11   5226503  .   A   C   209966.0\n",
      "40   chr2  32916486  .   A   G   122493.0\n",
      "38   chr2  32916441  .   A   G    79224.0\n",
      "37   chr2  32916401  .   A   G    23559.1\n",
      "65   chr9  92287865  .   C   T    11298.3\n",
      "41   chr2  32916557  .   A   T    10466.9\n",
      "66   chr9  92288225  .   T   G    10417.8\n",
      "\n",
      "High-Quality Variants Summary Statistics:\n",
      "                QUAL\n",
      "count  7.600000e+01\n",
      "mean   9.397043e+04\n",
      "std    5.707527e+05\n",
      "min    4.131900e+01\n",
      "25%    9.268080e+01\n",
      "50%    2.487570e+02\n",
      "75%    8.517785e+02\n",
      "max    4.700200e+06\n"
     ]
    }
   ],
   "source": [
    "#Nicholas Chludzinski\n",
    "\n",
    "import pandas as pd\n",
    "\n",
    "\n",
    "# Load the tabular file\n",
    "tab_file = \"/Users/nicho/Downloads/Galaxy66-[VCFtoTab-delimited__on_data_65].tabular\" \n",
    "df = pd.read_csv(tab_file, sep=\"\\t\")\n",
    "\n",
    "# Quality Checks\n",
    "print(\"Total Variants:\", len(df))\n",
    "print(\"\\nMissing Values in QUAL:\", df['QUAL'].isnull().sum())\n",
    "\n",
    "\n",
    "# Filter High-Quality Variants (QUAL > 30 and DP > 10)\n",
    "if 'DP' in df.columns:\n",
    "    high_quality = df[(df['QUAL'] > 30) & (df['DP'] > 10)]\n",
    "else:\n",
    "    high_quality = df[df['QUAL'] > 30]\n",
    "\n",
    "\n",
    "# Save the filtered data\n",
    "high_quality.to_csv(\"/Users/nicho/Downloads/filtered_variants.csv\", index=False)\n",
    "print(f\"\\nHigh-Quality Variants Saved: {len(high_quality)}\")\n",
    "\n",
    "\n",
    "# Top Variants by Quality (Pandas method)\n",
    "top_variants = high_quality.nlargest(10, 'QUAL')\n",
    "print(\"\\nThe higher the quality (ie. 4700200.0), the greater the confidence in the variant (ie. at chr15) being a true genetic change rather than a sequencing artifact\")\n",
    "print(\"Top 10 Variants by Quality:\\n\", top_variants[['#CHROM', 'POS', 'ID', 'REF', 'ALT', 'QUAL']])\n",
    "                              \n",
    "\n",
    "# Summary statistics for high-quality variants\n",
    "print(\"\\nHigh-Quality Variants Summary Statistics:\\n\", high_quality[['QUAL']].describe())\n"
   ]
  },
  {
   "cell_type": "code",
   "execution_count": null,
   "id": "11394cf5-a0f2-4940-846f-b65d511007d4",
   "metadata": {},
   "outputs": [],
   "source": []
  }
 ],
 "metadata": {
  "kernelspec": {
   "display_name": "Python 3 (ipykernel)",
   "language": "python",
   "name": "python3"
  },
  "language_info": {
   "codemirror_mode": {
    "name": "ipython",
    "version": 3
   },
   "file_extension": ".py",
   "mimetype": "text/x-python",
   "name": "python",
   "nbconvert_exporter": "python",
   "pygments_lexer": "ipython3",
   "version": "3.11.10"
  }
 },
 "nbformat": 4,
 "nbformat_minor": 5
}
